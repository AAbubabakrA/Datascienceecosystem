{
 "cells": [
  {
   "cell_type": "markdown",
   "id": "84f5077e-9a65-4086-99ef-5707c6c6cbf1",
   "metadata": {},
   "source": [
    "#Data Science Tools and Ecosystem"
   ]
  },
  {
   "cell_type": "markdown",
   "id": "f07468df-45bc-4652-b92f-e56dd036a0bb",
   "metadata": {},
   "source": [
    "#In this notebook, Data Science Tools and Ecosystem are summarized."
   ]
  },
  {
   "cell_type": "markdown",
   "id": "7d034e3a-2a0c-426d-a8c2-e7b775a0eebc",
   "metadata": {},
   "source": [
    "#Some of the popular languages that Data Scientists use are:\n"
   ]
  },
  {
   "cell_type": "markdown",
   "id": "2690f28c-7ba5-4560-95b6-cf94d18c2fff",
   "metadata": {},
   "source": [
    "#ordered list\n",
    "1. Python\n",
    "2. R\n",
    "3. SQL\n",
    "4. Julia"
   ]
  },
  {
   "cell_type": "markdown",
   "id": "6c25939e-8863-45ec-8c8c-b8813216bc1c",
   "metadata": {},
   "source": [
    "#Some of the commonly used libraries used by Data Scientists include:\n",
    "1. NumPy\n",
    "2. Pandas\n",
    "3. Matplotlib"
   ]
  },
  {
   "cell_type": "markdown",
   "id": "c44824ac-25aa-4561-88cf-32afcf954abd",
   "metadata": {},
   "source": [
    "|Data Science Tools|\n",
    "|-------------------|\n",
    "|Git|\n",
    "|vscode|\n",
    "|odo|"
   ]
  },
  {
   "cell_type": "markdown",
   "id": "44a28e20-7f6a-4866-9043-cee72bfd9595",
   "metadata": {},
   "source": [
    "### Below are a few examples of evaluating arithmetic expressions in Python.\n",
    "5+4\n",
    "11-9\n",
    "80*7\n",
    "\n"
   ]
  },
  {
   "cell_type": "code",
   "execution_count": 1,
   "id": "5d48c985-c24e-4ce2-9e8b-2ddbed11e28e",
   "metadata": {},
   "outputs": [
    {
     "data": {
      "text/plain": [
       "17"
      ]
     },
     "execution_count": 1,
     "metadata": {},
     "output_type": "execute_result"
    }
   ],
   "source": [
    "# This a simple arithmetic expression to mutiply then add integers\n",
    "(3*4)+5"
   ]
  },
  {
   "cell_type": "code",
   "execution_count": 4,
   "id": "bbdf737d-7e3c-4412-b8ca-e0625e0b9b8c",
   "metadata": {},
   "outputs": [
    {
     "name": "stdout",
     "output_type": "stream",
     "text": [
      "3:20\n"
     ]
    }
   ],
   "source": [
    "# This will convert 200 minutes to hours by diving by 60\n",
    "total_minutes = 200\n",
    "hours = total_minutes // 60\n",
    "minutes = total_minutes % 60\n",
    "time = \"{}:{}\".format(hours, minutes)\n",
    "print(time)\n"
   ]
  },
  {
   "cell_type": "markdown",
   "id": "f5fdc189-694a-4fcd-bf9d-aae118b35d9c",
   "metadata": {},
   "source": [
    "**Objectives**\n",
    "- List popular languages for Data Science\n",
    "- Explore common libraries used by Data Scientists\n",
    "- Understand the ecosystem of Data Science tools\n"
   ]
  },
  {
   "cell_type": "markdown",
   "id": "fc0615a1-e447-421a-a79d-2cc3850775fd",
   "metadata": {},
   "source": [
    "##Author\n",
    "Adamu Abdullahi Abubakar"
   ]
  },
  {
   "cell_type": "code",
   "execution_count": null,
   "id": "b6537d05-2712-4c26-96ed-ce4e44e43c90",
   "metadata": {},
   "outputs": [],
   "source": []
  }
 ],
 "metadata": {
  "kernelspec": {
   "display_name": "Python 3 (ipykernel)",
   "language": "python",
   "name": "python3"
  },
  "language_info": {
   "codemirror_mode": {
    "name": "ipython",
    "version": 3
   },
   "file_extension": ".py",
   "mimetype": "text/x-python",
   "name": "python",
   "nbconvert_exporter": "python",
   "pygments_lexer": "ipython3",
   "version": "3.12.4"
  }
 },
 "nbformat": 4,
 "nbformat_minor": 5
}
